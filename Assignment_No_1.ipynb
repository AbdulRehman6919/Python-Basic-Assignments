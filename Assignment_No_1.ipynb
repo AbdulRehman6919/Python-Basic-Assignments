{
 "cells": [
  {
   "cell_type": "markdown",
   "metadata": {},
   "source": [
    "# Question no 1"
   ]
  },
  {
   "cell_type": "markdown",
   "metadata": {},
   "source": [
    "Write a Python program to print \"Hello Pyhton\"?\n"
   ]
  },
  {
   "cell_type": "code",
   "execution_count": 1,
   "metadata": {},
   "outputs": [
    {
     "name": "stdout",
     "output_type": "stream",
     "text": [
      "Hello Python\n"
     ]
    }
   ],
   "source": [
    "print(\"Hello Python\")"
   ]
  },
  {
   "cell_type": "markdown",
   "metadata": {},
   "source": [
    "# Question no 2 "
   ]
  },
  {
   "cell_type": "markdown",
   "metadata": {},
   "source": [
    "Write a pyhton Program to do arithematical operations addition & division?"
   ]
  },
  {
   "cell_type": "code",
   "execution_count": 8,
   "metadata": {},
   "outputs": [
    {
     "name": "stdout",
     "output_type": "stream",
     "text": [
      "Addition Operation:  12\n",
      "Division Operation:  2\n"
     ]
    }
   ],
   "source": [
    "#Variables Decleration\n",
    "var1=8\n",
    "var2=4\n",
    "print(\"Addition Operation: \",var1+var2)\n",
    "print(\"Division Operation: \",var1//var2)"
   ]
  },
  {
   "cell_type": "markdown",
   "metadata": {},
   "source": [
    "# Question no 3 "
   ]
  },
  {
   "cell_type": "markdown",
   "metadata": {},
   "source": [
    "Write a python  Program to find the area of triangle?\n"
   ]
  },
  {
   "cell_type": "code",
   "execution_count": 9,
   "metadata": {},
   "outputs": [
    {
     "name": "stdout",
     "output_type": "stream",
     "text": [
      "Enter the Base: 2\n",
      "Enter the Height: 2\n",
      "Area of Triangle is:  2.0\n"
     ]
    }
   ],
   "source": [
    "#Taking input variables values:\n",
    "base=float(input(\"Enter the Base: \"))\n",
    "height=float(input(\"Enter the Height: \"))\n",
    "\n",
    "Area_of_triangle=((base*height)*(1/2))\n",
    "print('Area of Triangle is: ',Area_of_triangle)"
   ]
  },
  {
   "cell_type": "markdown",
   "metadata": {},
   "source": [
    "# Question no 4"
   ]
  },
  {
   "cell_type": "markdown",
   "metadata": {},
   "source": [
    "Write a python program to swap two  variables?"
   ]
  },
  {
   "cell_type": "code",
   "execution_count": 10,
   "metadata": {},
   "outputs": [
    {
     "name": "stdout",
     "output_type": "stream",
     "text": [
      "Enter the variable 1 value: 4\n",
      "Enter the variable 2 value: 5\n",
      "The value of variable 1 becomes:  5.0\n",
      "The value of variable 2 becomes:  4.0\n"
     ]
    }
   ],
   "source": [
    "var_1=float(input(\"Enter the variable 1 value: \"))\n",
    "var_2=float(input(\"Enter the variable 2 value: \"))\n",
    "var_1,var_2=var_2,var_1\n",
    "print(\"The value of variable 1 becomes: \",var_1)\n",
    "print(\"The value of variable 2 becomes: \",var_2)"
   ]
  },
  {
   "cell_type": "markdown",
   "metadata": {},
   "source": [
    "# Question no 5 "
   ]
  },
  {
   "cell_type": "markdown",
   "metadata": {},
   "source": [
    "Write a Python program to generate a random number?"
   ]
  },
  {
   "cell_type": "code",
   "execution_count": 13,
   "metadata": {},
   "outputs": [
    {
     "data": {
      "text/plain": [
       "6"
      ]
     },
     "execution_count": 13,
     "metadata": {},
     "output_type": "execute_result"
    }
   ],
   "source": [
    "import random as rd \n",
    "number=rd.randint(1,10)\n",
    "number"
   ]
  },
  {
   "cell_type": "code",
   "execution_count": null,
   "metadata": {},
   "outputs": [],
   "source": []
  }
 ],
 "metadata": {
  "kernelspec": {
   "display_name": "Python 3",
   "language": "python",
   "name": "python3"
  },
  "language_info": {
   "codemirror_mode": {
    "name": "ipython",
    "version": 3
   },
   "file_extension": ".py",
   "mimetype": "text/x-python",
   "name": "python",
   "nbconvert_exporter": "python",
   "pygments_lexer": "ipython3",
   "version": "3.8.3"
  }
 },
 "nbformat": 4,
 "nbformat_minor": 4
}
