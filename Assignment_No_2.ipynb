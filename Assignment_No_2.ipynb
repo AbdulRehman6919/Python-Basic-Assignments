{
 "cells": [
  {
   "cell_type": "markdown",
   "metadata": {},
   "source": [
    "# Question no 1\n"
   ]
  },
  {
   "cell_type": "markdown",
   "metadata": {},
   "source": [
    "Write a Python program to convert kilometers to miles?"
   ]
  },
  {
   "cell_type": "code",
   "execution_count": 5,
   "metadata": {},
   "outputs": [
    {
     "name": "stdout",
     "output_type": "stream",
     "text": [
      "Enter the value in Kilometers: 1.6\n",
      "The value in miles is 1.0 miles \n"
     ]
    }
   ],
   "source": [
    "value_1=float(input(\"Enter the value in Kilometers: \"))\n",
    "miles=value_1/1.6\n",
    "print(\"The value in miles is {0} miles \".format(miles))"
   ]
  },
  {
   "cell_type": "markdown",
   "metadata": {},
   "source": [
    "# Question no 2 "
   ]
  },
  {
   "cell_type": "markdown",
   "metadata": {},
   "source": [
    "Write a Python program to convert Celsius to Fahrenheit?"
   ]
  },
  {
   "cell_type": "code",
   "execution_count": 7,
   "metadata": {},
   "outputs": [
    {
     "name": "stdout",
     "output_type": "stream",
     "text": [
      "Enter the value in Celcius value: 270\n",
      "The value in fahrenheit is 518.0 F \n"
     ]
    }
   ],
   "source": [
    "celcius=float(input(\"Enter the value in Celcius value: \"))\n",
    "fahrenheit=((9/5)*celcius)+32\n",
    "print(\"The value in fahrenheit is {0} F \".format(fahrenheit))"
   ]
  },
  {
   "cell_type": "markdown",
   "metadata": {},
   "source": [
    "# Question no 3"
   ]
  },
  {
   "cell_type": "markdown",
   "metadata": {},
   "source": [
    "Write a Python program to display calendar?"
   ]
  },
  {
   "cell_type": "code",
   "execution_count": 8,
   "metadata": {},
   "outputs": [
    {
     "name": "stdout",
     "output_type": "stream",
     "text": [
      "Enter the Year: 2021\n",
      "Enter the Month: 06\n",
      "     June 2021\n",
      "Mo Tu We Th Fr Sa Su\n",
      "    1  2  3  4  5  6\n",
      " 7  8  9 10 11 12 13\n",
      "14 15 16 17 18 19 20\n",
      "21 22 23 24 25 26 27\n",
      "28 29 30\n",
      "\n"
     ]
    }
   ],
   "source": [
    "import calendar as cl\n",
    "\n",
    "year=int(input(\"Enter the Year: \"))\n",
    "month=int(input(\"Enter the Month: \"))\n",
    "\n",
    "print(cl.month(year,month))"
   ]
  },
  {
   "cell_type": "markdown",
   "metadata": {},
   "source": [
    "# Question no 4\n"
   ]
  },
  {
   "cell_type": "markdown",
   "metadata": {},
   "source": [
    "Write a Python program to solve quadratic equation?"
   ]
  },
  {
   "cell_type": "code",
   "execution_count": 9,
   "metadata": {},
   "outputs": [
    {
     "name": "stdout",
     "output_type": "stream",
     "text": [
      "Enter a: 1\n",
      "Enter b: 2\n",
      "Enter c: 3\n",
      "First root value:  (-2+1.4142135623730951j)\n",
      "second root value:  (-2-1.4142135623730951j)\n"
     ]
    }
   ],
   "source": [
    "import cmath as mt \n",
    "a=int(input(\"Enter a: \"))\n",
    "b=int(input(\"Enter b: \"))\n",
    "c=int(input(\"Enter c: \"))\n",
    "\n",
    "def Quadratic_roots(a,b,c):\n",
    "    roota=-b+mt.sqrt(((b*b)-(4*a*c)))/(2*a)\n",
    "    rootb=-b-mt.sqrt(((b*b)-(4*a*c)))/(2*a)\n",
    "    print(\"First root value: \",roota)\n",
    "    print(\"second root value: \",rootb)\n",
    "    \n",
    "Quadratic_roots(a,b,c)\n"
   ]
  },
  {
   "cell_type": "markdown",
   "metadata": {},
   "source": [
    "# Question no 5"
   ]
  },
  {
   "cell_type": "markdown",
   "metadata": {},
   "source": [
    "Write a Python program to swap two variables without temp variable?"
   ]
  },
  {
   "cell_type": "code",
   "execution_count": 10,
   "metadata": {},
   "outputs": [
    {
     "name": "stdout",
     "output_type": "stream",
     "text": [
      "Enter the variable 1 value: 3\n",
      "Enter the variable 2 value: 5\n",
      "The value of variable 1 becomes:  5.0\n",
      "The value of variable 2 becomes:  3.0\n"
     ]
    }
   ],
   "source": [
    "var_1=float(input(\"Enter the variable 1 value: \"))\n",
    "var_2=float(input(\"Enter the variable 2 value: \"))\n",
    "var_1,var_2=var_2,var_1\n",
    "print(\"The value of variable 1 becomes: \",var_1)\n",
    "print(\"The value of variable 2 becomes: \",var_2)"
   ]
  },
  {
   "cell_type": "code",
   "execution_count": null,
   "metadata": {},
   "outputs": [],
   "source": []
  }
 ],
 "metadata": {
  "kernelspec": {
   "display_name": "Python 3",
   "language": "python",
   "name": "python3"
  },
  "language_info": {
   "codemirror_mode": {
    "name": "ipython",
    "version": 3
   },
   "file_extension": ".py",
   "mimetype": "text/x-python",
   "name": "python",
   "nbconvert_exporter": "python",
   "pygments_lexer": "ipython3",
   "version": "3.8.3"
  }
 },
 "nbformat": 4,
 "nbformat_minor": 4
}
